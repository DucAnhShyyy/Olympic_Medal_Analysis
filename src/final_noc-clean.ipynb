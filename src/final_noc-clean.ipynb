{
 "cells": [
  {
   "cell_type": "code",
   "execution_count": 13,
   "metadata": {},
   "outputs": [],
   "source": [
    "import requests\n",
    "from bs4 import BeautifulSoup\n",
    "import pandas as pd\n",
    "import re\n",
    "\n",
    "# Step 1: Fetch the webpage content\n",
    "url = \"https://en.wikipedia.org/wiki/List_of_IOC_country_codes\"\n",
    "response = requests.get(url)\n",
    "\n",
    "if response.status_code == 200:\n",
    "    # Step 2: Parse the HTML content with BeautifulSoup\n",
    "    soup = BeautifulSoup(response.content, \"html.parser\")\n",
    "    \n",
    "    # Step 3: Extract all tables containing NOC codes\n",
    "    tables = soup.find_all(\"table\", {\"class\": \"wikitable\"})\n",
    "    \n",
    "    # Step 4: Initialize an empty list to store data\n",
    "    data = []\n",
    "    \n",
    "    # Step 5: Loop through all relevant tables\n",
    "    for table in tables:\n",
    "        rows = table.find_all(\"tr\")\n",
    "        for row in rows[1:]:  # Skip header row\n",
    "            cells = row.find_all([\"th\", \"td\"])\n",
    "            if len(cells) >= 2:  # Ensure at least two columns (NOC Code and Country Name)\n",
    "                noc_code = cells[0].text.strip()  # First column: NOC Code\n",
    "                country_name = cells[1].text.strip()  # Second column: Country Name\n",
    "                \n",
    "                # Remove extra notes or translations (text within square brackets)\n",
    "                noc_code = re.sub(r'\\[.*?\\]', '', noc_code).strip()\n",
    "                country_name = re.sub(r'\\[.*?\\]', '', country_name).strip()\n",
    "                \n",
    "                # Remove any translations or additional info after \"from\" (if present)\n",
    "                if \"from\" in country_name:\n",
    "                    country_name = country_name.split(\"from\")[0].strip()\n",
    "                \n",
    "                data.append([noc_code, country_name])\n",
    "    \n",
    "    # Step 6: Create a DataFrame and drop duplicates\n",
    "    df = pd.DataFrame(data, columns=[\"NOC\", \"Athlete Country\"])\n",
    "    df = df.drop_duplicates()"
   ]
  },
  {
   "cell_type": "code",
   "execution_count": null,
   "metadata": {},
   "outputs": [],
   "source": [
    "df.to_excel(r\"C:\\Users\\NEU Study\\Third year\\First term\\Data Preparation and Visualization\\Midterm\\Midterm 2\\NOC List.xlsx\")"
   ]
  },
  {
   "cell_type": "code",
   "execution_count": 16,
   "metadata": {},
   "outputs": [
    {
     "data": {
      "text/html": [
       "<div>\n",
       "<style scoped>\n",
       "    .dataframe tbody tr th:only-of-type {\n",
       "        vertical-align: middle;\n",
       "    }\n",
       "\n",
       "    .dataframe tbody tr th {\n",
       "        vertical-align: top;\n",
       "    }\n",
       "\n",
       "    .dataframe thead th {\n",
       "        text-align: right;\n",
       "    }\n",
       "</style>\n",
       "<table border=\"1\" class=\"dataframe\">\n",
       "  <thead>\n",
       "    <tr style=\"text-align: right;\">\n",
       "      <th></th>\n",
       "      <th>NOC</th>\n",
       "      <th>Athlete Country</th>\n",
       "    </tr>\n",
       "  </thead>\n",
       "  <tbody>\n",
       "    <tr>\n",
       "      <th>212</th>\n",
       "      <td>EUA</td>\n",
       "      <td>United Team of Germany</td>\n",
       "    </tr>\n",
       "    <tr>\n",
       "      <th>213</th>\n",
       "      <td>EUN</td>\n",
       "      <td>Unified Team</td>\n",
       "    </tr>\n",
       "  </tbody>\n",
       "</table>\n",
       "</div>"
      ],
      "text/plain": [
       "     NOC         Athlete Country\n",
       "212  EUA  United Team of Germany\n",
       "213  EUN            Unified Team"
      ]
     },
     "execution_count": 16,
     "metadata": {},
     "output_type": "execute_result"
    }
   ],
   "source": [
    "df[df['NOC'].isin(['EUA', 'EUN'])]"
   ]
  }
 ],
 "metadata": {
  "kernelspec": {
   "display_name": "Python 3",
   "language": "python",
   "name": "python3"
  },
  "language_info": {
   "codemirror_mode": {
    "name": "ipython",
    "version": 3
   },
   "file_extension": ".py",
   "mimetype": "text/x-python",
   "name": "python",
   "nbconvert_exporter": "python",
   "pygments_lexer": "ipython3",
   "version": "3.11.4"
  }
 },
 "nbformat": 4,
 "nbformat_minor": 2
}
